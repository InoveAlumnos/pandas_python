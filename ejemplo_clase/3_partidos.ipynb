{
 "cells": [
  {
   "cell_type": "markdown",
   "metadata": {
    "id": "Ea9CPlvttQda"
   },
   "source": [
    "<a href=\"https://www.inove.com.ar\"><img src=\"https://raw.githubusercontent.com/InoveAlumnos/dataset_analytics_python/master/images/PA%20Banner.png\" width=\"1000\" align=\"center\"></a>\n",
    "\n",
    "\n",
    "# Visualización y limpieza con Pandas\n",
    "\n",
    "Visualización de los datos del dataset futbol\\\n",
    "v1.1"
   ]
  },
  {
   "cell_type": "markdown",
   "metadata": {
    "id": "bytGbCXudqWV"
   },
   "source": [
    "### **Objetivos: Asociados al preprocesamiento y visualización de los datos.**\n",
    "\n",
    "\n",
    "*   Implemetar el código de descarga de un archivo csv.\n",
    "*   Comprender la lectura de un archivo csv con Pandas.\n",
    "*   Realizar la descripción estadística con Pandas.\n",
    "*   Identificar y eliminar datos faltantes.\n",
    "*   Explorar los datos y aplicar filtros.\n",
    "*   Representar graficamente los datos para comparar los resultados de los partidos."
   ]
  },
  {
   "cell_type": "code",
   "execution_count": null,
   "metadata": {
    "executionInfo": {
     "elapsed": 4668,
     "status": "ok",
     "timestamp": 1674608989896,
     "user": {
      "displayName": "Johana Rangel",
      "userId": "05955916709715560742"
     },
     "user_tz": 180
    },
    "id": "xJN8ND5ctQdc"
   },
   "outputs": [],
   "source": [
    "# Módulo os (sistema operativo)\n",
    "import os\n",
    "# Módulo platform, acceso a los datos identificativos de la plataforma subyacente.\n",
    "import platform\n",
    "\n",
    "import numpy as np\n",
    "import matplotlib.pyplot as plt\n",
    "import seaborn as sns\n",
    "import pandas as pd"
   ]
  },
  {
   "cell_type": "markdown",
   "metadata": {
    "id": "v-jK-TsQCwW9"
   },
   "source": [
    "# Recolectar datos\n",
    "<img src=\"https://raw.githubusercontent.com/InoveAlumnos/dataset_analytics_python/master/images/Pipeline1.png\" width=\"1000\" align=\"middle\">"
   ]
  },
  {
   "cell_type": "markdown",
   "metadata": {
    "id": "IqBnXF-VkSz6"
   },
   "source": [
    "## Código de descarga del archivo csv."
   ]
  },
  {
   "cell_type": "code",
   "execution_count": null,
   "metadata": {
    "colab": {
     "base_uri": "https://localhost:8080/"
    },
    "executionInfo": {
     "elapsed": 575,
     "status": "ok",
     "timestamp": 1674608996278,
     "user": {
      "displayName": "Johana Rangel",
      "userId": "05955916709715560742"
     },
     "user_tz": 180
    },
    "id": "j9x_YEdTtQeC",
    "outputId": "3a156f09-6a0f-4748-db9f-ec2b267a2070",
    "tags": []
   },
   "outputs": [],
   "source": [
    "# Código que permite acceder al archivo partidos.csv, en caso no tenga acceso al archivo,\n",
    "# El condicional propone identificar la plataforma, si es Windows va a buscar el archivo en github de Inove y lo descargará.\n",
    "# En caso sea una plataforma diferente va a buscar el archivo en la ruta especificada.\n",
    "\n",
    "if os.access('partidos.csv', os.F_OK) is False:\n",
    "    if platform.system() == 'Windows':\n",
    "        !curl https://raw.githubusercontent.com/InoveAlumnos/dataset_analytics_python/master/partidos.csv > partidos.csv\n",
    "    else:\n",
    "        !wget partidos.csv https://raw.githubusercontent.com/InoveAlumnos/dataset_analytics_python/master/partidos.csv"
   ]
  },
  {
   "cell_type": "markdown",
   "metadata": {
    "id": "Q5I6l8ZCFaZ8"
   },
   "source": [
    "# Procesar datos\n",
    "<img src=\"https://raw.githubusercontent.com/InoveAlumnos/dataset_analytics_python/master/images/Pipeline2.png\" width=\"1000\" align=\"middle\">"
   ]
  },
  {
   "cell_type": "markdown",
   "metadata": {
    "id": "EKCKQkXukavS"
   },
   "source": [
    "## Lectura de un archivo csv con Pandas."
   ]
  },
  {
   "cell_type": "code",
   "execution_count": null,
   "metadata": {
    "colab": {
     "base_uri": "https://localhost:8080/",
     "height": 423
    },
    "executionInfo": {
     "elapsed": 312,
     "status": "ok",
     "timestamp": 1674610642811,
     "user": {
      "displayName": "Johana Rangel",
      "userId": "05955916709715560742"
     },
     "user_tz": 180
    },
    "id": "dvm2IB1WeQ2R",
    "outputId": "bfeda48e-6d0f-410b-abe0-5df073817f69"
   },
   "outputs": [],
   "source": [
    "# Una vez descargado el archivo en Colab.\n",
    "# Leerlo con Pandas y el método read_csv\n",
    "# Una vez extraida toda la información se almacena en df\n",
    "# A partir de df y el método describe(), mostrará la descripción estadistica básica del archivo que se guardará en des\n",
    "df = pd.read_csv(\"partidos.csv\")\n",
    "df"
   ]
  },
  {
   "cell_type": "markdown",
   "metadata": {
    "id": "5D5Y2s7LkibR"
   },
   "source": [
    "## Descripción estadística con Pandas."
   ]
  },
  {
   "cell_type": "code",
   "execution_count": null,
   "metadata": {
    "colab": {
     "base_uri": "https://localhost:8080/",
     "height": 300
    },
    "executionInfo": {
     "elapsed": 5,
     "status": "ok",
     "timestamp": 1674610634885,
     "user": {
      "displayName": "Johana Rangel",
      "userId": "05955916709715560742"
     },
     "user_tz": 180
    },
    "id": "uM8gNEELkmU5",
    "outputId": "4b671449-a660-4409-9e4a-79d228114038"
   },
   "outputs": [],
   "source": [
    "des = df.describe()\n",
    "des"
   ]
  },
  {
   "cell_type": "markdown",
   "metadata": {
    "id": "rbaakKruktQZ"
   },
   "source": [
    "## Identificar y eliminar datos faltantes."
   ]
  },
  {
   "cell_type": "code",
   "execution_count": null,
   "metadata": {
    "executionInfo": {
     "elapsed": 307,
     "status": "ok",
     "timestamp": 1674609110389,
     "user": {
      "displayName": "Johana Rangel",
      "userId": "05955916709715560742"
     },
     "user_tz": 180
    },
    "id": "RQgSiWHXFWQD"
   },
   "outputs": [],
   "source": [
    "# Crear una fila nueva llamada Nan en el DataFrame  des,\n",
    "# que indica la cantidad de datos tipo Nan que tiene cada columna.\n",
    "# Para crear una nueva fila, se utilizará el operador loc, donde se indica el nombre\n",
    "# de la nueva fila y con que valores se completará.\n",
    "# La información será de los datos faltantes df.isna().sum()\n",
    "des.loc['Nan'] = df.isna().sum()"
   ]
  },
  {
   "cell_type": "code",
   "execution_count": null,
   "metadata": {
    "colab": {
     "base_uri": "https://localhost:8080/",
     "height": 363
    },
    "executionInfo": {
     "elapsed": 300,
     "status": "ok",
     "timestamp": 1674609113534,
     "user": {
      "displayName": "Johana Rangel",
      "userId": "05955916709715560742"
     },
     "user_tz": 180
    },
    "id": "aVEDsKD7egHC",
    "outputId": "14136fcc-15c4-47ce-b701-aad674d7db79"
   },
   "outputs": [],
   "source": [
    "# Crear una fila nueva llamada %Nan en el DataFrame des,\n",
    "# Esta fila se completará con los porcentajes de Nan encontrados en cada columna.\n",
    "des.loc['%Nan'] = (df.isna().mean())*100\n",
    "des"
   ]
  },
  {
   "cell_type": "code",
   "execution_count": null,
   "metadata": {
    "colab": {
     "base_uri": "https://localhost:8080/",
     "height": 206
    },
    "executionInfo": {
     "elapsed": 510,
     "status": "ok",
     "timestamp": 1674609116364,
     "user": {
      "displayName": "Johana Rangel",
      "userId": "05955916709715560742"
     },
     "user_tz": 180
    },
    "id": "yVdxZvGKFvM9",
    "outputId": "b816049e-8e4e-4a78-d914-b64b16774325"
   },
   "outputs": [],
   "source": [
    "# Muestra las 5 primeras filas del DataFrame df\n",
    "df.head()"
   ]
  },
  {
   "cell_type": "code",
   "execution_count": null,
   "metadata": {
    "executionInfo": {
     "elapsed": 296,
     "status": "ok",
     "timestamp": 1674610918987,
     "user": {
      "displayName": "Johana Rangel",
      "userId": "05955916709715560742"
     },
     "user_tz": 180
    },
    "id": "aQGth6LUll-M"
   },
   "outputs": [],
   "source": [
    "# Haciendo copia de df\n",
    "df1 = df.copy()"
   ]
  },
  {
   "cell_type": "code",
   "execution_count": null,
   "metadata": {
    "colab": {
     "base_uri": "https://localhost:8080/",
     "height": 206
    },
    "executionInfo": {
     "elapsed": 340,
     "status": "ok",
     "timestamp": 1674610926689,
     "user": {
      "displayName": "Johana Rangel",
      "userId": "05955916709715560742"
     },
     "user_tz": 180
    },
    "id": "aXzRzYZ0fyVx",
    "outputId": "85eafec0-8742-4abc-fd23-cdfd0dd94569"
   },
   "outputs": [],
   "source": [
    "# Cambiar los nombres de las columnas.\n",
    "# Para ello, del DataFrame df accedemos a columns que contiene todos los nombres de las columnas.\n",
    "# Las cuales se van a sobreescribir con los nuevos nombres.\n",
    "df1.columns = ['fecha', 'equipo_local', 'equipo_visitante', 'resultado_local', 'resultado_visitante', 'torneo', 'ciudad', 'pais', 'neutral']\n",
    "df1.head()"
   ]
  },
  {
   "cell_type": "code",
   "execution_count": null,
   "metadata": {
    "colab": {
     "base_uri": "https://localhost:8080/"
    },
    "executionInfo": {
     "elapsed": 318,
     "status": "ok",
     "timestamp": 1674610946477,
     "user": {
      "displayName": "Johana Rangel",
      "userId": "05955916709715560742"
     },
     "user_tz": 180
    },
    "id": "bjzK91EoLfJZ",
    "outputId": "2579f93e-8c6d-4005-eb94-a70718d99a86"
   },
   "outputs": [],
   "source": [
    "# ¿Cuántos datos quedaron para analizar?\n",
    "# Con shape muestra las filas y columnas disponibles en df_clean\n",
    "df1.shape"
   ]
  },
  {
   "cell_type": "markdown",
   "metadata": {
    "id": "l17CbKBnLTbu"
   },
   "source": [
    "## Fin de la limpieza\n",
    "No hay datos incompletos o mal ingresados en el dataset, está limpio! No es necesario ningún tipo de limpieza"
   ]
  },
  {
   "cell_type": "code",
   "execution_count": null,
   "metadata": {
    "colab": {
     "base_uri": "https://localhost:8080/"
    },
    "executionInfo": {
     "elapsed": 2,
     "status": "ok",
     "timestamp": 1674610950713,
     "user": {
      "displayName": "Johana Rangel",
      "userId": "05955916709715560742"
     },
     "user_tz": 180
    },
    "id": "XPQ2CtCGL3Zn",
    "outputId": "66804d6b-6d73-4878-8ec5-af9785f14e19"
   },
   "outputs": [],
   "source": [
    "print('Cantidad de datos en observacion:', df1.shape[0])"
   ]
  },
  {
   "cell_type": "markdown",
   "metadata": {
    "id": "8T_3enyVHYJa"
   },
   "source": [
    "# Explorar datos\n",
    "<img src=\"https://raw.githubusercontent.com/InoveAlumnos/dataset_analytics_python/master/images/Pipeline3.png\" width=\"1000\" align=\"middle\">"
   ]
  },
  {
   "cell_type": "code",
   "execution_count": null,
   "metadata": {
    "colab": {
     "base_uri": "https://localhost:8080/",
     "height": 206
    },
    "executionInfo": {
     "elapsed": 4,
     "status": "ok",
     "timestamp": 1674610955015,
     "user": {
      "displayName": "Johana Rangel",
      "userId": "05955916709715560742"
     },
     "user_tz": 180
    },
    "id": "5OZpKcO8Mh3A",
    "outputId": "c6aa42ce-db96-45fb-de95-8157403a1e53"
   },
   "outputs": [],
   "source": [
    "# Muestra las 5 primeras filas del DataFrame df\n",
    "df1.head()"
   ]
  },
  {
   "cell_type": "markdown",
   "metadata": {
    "id": "91gOMQg2Mkrd"
   },
   "source": [
    "*  Se puede observar que está el puntaje de cada partido, pero no el resultado final (wins, loses, draws) --> (ganó, perdió, empató).\n",
    "*   Agregaremos una columna \"results\" con el resultado por partido."
   ]
  },
  {
   "cell_type": "markdown",
   "metadata": {
    "id": "duEqqQCVkzAB"
   },
   "source": [
    "## Explorar los datos y aplicar filtros\n"
   ]
  },
  {
   "cell_type": "code",
   "execution_count": null,
   "metadata": {
    "colab": {
     "base_uri": "https://localhost:8080/",
     "height": 206
    },
    "executionInfo": {
     "elapsed": 1140,
     "status": "ok",
     "timestamp": 1674610972312,
     "user": {
      "displayName": "Johana Rangel",
      "userId": "05955916709715560742"
     },
     "user_tz": 180
    },
    "id": "O1jrDQfeRsqE",
    "outputId": "355b71ac-9d03-4a5c-d086-b725e7380b0a"
   },
   "outputs": [],
   "source": [
    "# Sa filtra el dataset para agregar una nueva columna llamada \"resultados\".\n",
    "# Esta columna permite incrementar la información a partir de la ya disponible.\n",
    "# Para ello, la columna resultados se completará con el retorno de una lambda.\n",
    "# La lambda va a recorrer todo el DataFrame para verificar los condicionales establecidos:\n",
    "# 'ganó' if x.resultado_local > x.resultado_visitante\n",
    "#'perdió' if x.resultado_local < x.resultado_visitante\n",
    "# else 'empató'\n",
    "# El axis=1, es para que se aplica la lambda para cada fila del DataFrame.\n",
    "df1['resultados'] = df1.apply(lambda x : 'ganó' if x.resultado_local > x.resultado_visitante else 'perdió' if x.resultado_local < x.resultado_visitante else 'empató', axis=1)\n",
    "df1.head()"
   ]
  },
  {
   "cell_type": "code",
   "execution_count": null,
   "metadata": {
    "colab": {
     "base_uri": "https://localhost:8080/"
    },
    "executionInfo": {
     "elapsed": 3,
     "status": "ok",
     "timestamp": 1674610994889,
     "user": {
      "displayName": "Johana Rangel",
      "userId": "05955916709715560742"
     },
     "user_tz": 180
    },
    "id": "jzz8F7VgHTHH",
    "outputId": "b701b078-35fa-42b5-ac91-25c99e236c68"
   },
   "outputs": [],
   "source": [
    "# En el registro de la totalidad de partidos, \n",
    "# ¿Cuántos partidos se ganaron, cuántos se pierden y cuántos se empataron?\n",
    "# Para ello, se implementa el método value_counts() que se encarga de \n",
    "# contabilizar la frecuencia de los registros categoricos.\n",
    "df1['resultados'].value_counts()"
   ]
  },
  {
   "cell_type": "code",
   "execution_count": null,
   "metadata": {
    "colab": {
     "base_uri": "https://localhost:8080/"
    },
    "executionInfo": {
     "elapsed": 315,
     "status": "ok",
     "timestamp": 1674611041280,
     "user": {
      "displayName": "Johana Rangel",
      "userId": "05955916709715560742"
     },
     "user_tz": 180
    },
    "id": "v0p6e95WMscW",
    "outputId": "07c7f725-5e6a-4ff3-9fff-ff09173379ef"
   },
   "outputs": [],
   "source": [
    "# En la columna equipo_local, se cuenta cuántos valores únicos se encuentran.\n",
    "print(\"¿Cuántos países hay registrados?:\", df1['equipo_local'].nunique())"
   ]
  },
  {
   "cell_type": "markdown",
   "metadata": {
    "id": "i0OODWbZlCKp"
   },
   "source": [
    "## Representar graficamente los datos para comparar los resultados de los partidos."
   ]
  },
  {
   "cell_type": "code",
   "execution_count": null,
   "metadata": {
    "colab": {
     "base_uri": "https://localhost:8080/",
     "height": 296
    },
    "executionInfo": {
     "elapsed": 353,
     "status": "ok",
     "timestamp": 1674611408300,
     "user": {
      "displayName": "Johana Rangel",
      "userId": "05955916709715560742"
     },
     "user_tz": 180
    },
    "id": "y4BHiuUuJIBg",
    "outputId": "feedbf7a-9087-42d9-920e-0bc0dd7e3f9c"
   },
   "outputs": [],
   "source": [
    "# Partidos jugados por Argentina de local:\n",
    "pais_analizar = 'Argentina'\n",
    "\n",
    "# Se filtra df1 para extraer la información del equipo Argentino.\n",
    "df_arg = df1[ df1['equipo_local'] == pais_analizar]\n",
    "\n",
    "# countplot, similar a un grágico de barrar, permite comparar la frecuencia de los datos a estudiar,\n",
    "# en este caso, la freciencia de los resultados de los partidos.\n",
    "# sns, alias de Seaborn\n",
    "# x='resultados', nombre de la columna que se desea observar la frecuencia\n",
    "# data=df_arg, el DataFrame von la información.\n",
    "# set_title(f\"Histórico de {pais_analizar} permite asociar un título al gráfico\n",
    "# plt.show() muestra el gráfico.\n",
    "sns.countplot(x='resultados', data=df_arg).set_title(f\"Histórico de {pais_analizar}\")\n",
    "plt.show()\n",
    "\n",
    "# El countplot nos resuelve no tener que hacer lo siguiente:\n",
    "#sns.barplot(x=df_arg['result'].value_counts().index, y=df_arg['result'].value_counts())\n"
   ]
  }
 ],
 "metadata": {
  "colab": {
   "provenance": [],
   "toc_visible": true
  },
  "kernelspec": {
   "display_name": "Python 3",
   "language": "python",
   "name": "python3"
  },
  "language_info": {
   "codemirror_mode": {
    "name": "ipython",
    "version": 3
   },
   "file_extension": ".py",
   "mimetype": "text/x-python",
   "name": "python",
   "nbconvert_exporter": "python",
   "pygments_lexer": "ipython3",
   "version": "3.8.10"
  }
 },
 "nbformat": 4,
 "nbformat_minor": 4
}
