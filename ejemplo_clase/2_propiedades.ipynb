{
 "cells": [
  {
   "cell_type": "markdown",
   "metadata": {
    "id": "Ea9CPlvttQda"
   },
   "source": [
    "<a href=\"https://www.inove.com.ar\"><img src=\"https://raw.githubusercontent.com/InoveAlumnos/dataset_analytics_python/master/images/PA%20Banner.png\" width=\"1000\" align=\"center\"></a>\n",
    "\n",
    "\n",
    "# Visualización y limpieza con Pandas\n",
    "\n",
    "Visualización de los datos del dataset propiedades\\\n",
    "v1.1"
   ]
  },
  {
   "cell_type": "markdown",
   "metadata": {
    "id": "5xk1yD5dQjvJ"
   },
   "source": [
    "### Objetivos: Asociados al preprocesamiento  y visualización de los datos.\n",
    "\n",
    "\n",
    "*   Implemetar el código de descarga de un archivo csv.\n",
    "*   Comprender la lectura de un archivo csv con Pandas.\n",
    "*   Realizar la descripción estadística con Pandas.\n",
    "*   Identificar y eliminar datos faltantes.\n",
    "*   Explorar los datos y aplicar filtros.\n",
    "*   Representar graficamente los datos para observar su dispersión.\n",
    "\n"
   ]
  },
  {
   "cell_type": "code",
   "execution_count": null,
   "metadata": {
    "executionInfo": {
     "elapsed": 322,
     "status": "ok",
     "timestamp": 1674611553646,
     "user": {
      "displayName": "Johana Rangel",
      "userId": "05955916709715560742"
     },
     "user_tz": 180
    },
    "id": "xJN8ND5ctQdc"
   },
   "outputs": [],
   "source": [
    "# Módulo os (sistema operativo)\n",
    "import os\n",
    "# Módulo platform, acceso a los datos identificativos de la plataforma subyacente.\n",
    "import platform\n",
    "import matplotlib.pyplot as plt\n",
    "import pandas as pd"
   ]
  },
  {
   "cell_type": "markdown",
   "metadata": {
    "id": "v-jK-TsQCwW9"
   },
   "source": [
    "# Recolectar datos\n",
    "<img src=\"https://raw.githubusercontent.com/InoveAlumnos/dataset_analytics_python/master/images/Pipeline1.png\" width=\"1000\" align=\"middle\">"
   ]
  },
  {
   "cell_type": "markdown",
   "metadata": {
    "id": "2ry64IrIn3wJ"
   },
   "source": [
    "## Código de descarga del archivo csv."
   ]
  },
  {
   "cell_type": "code",
   "execution_count": null,
   "metadata": {
    "colab": {
     "base_uri": "https://localhost:8080/"
    },
    "executionInfo": {
     "elapsed": 1621,
     "status": "ok",
     "timestamp": 1674611555265,
     "user": {
      "displayName": "Johana Rangel",
      "userId": "05955916709715560742"
     },
     "user_tz": 180
    },
    "id": "j9x_YEdTtQeC",
    "outputId": "096ee45f-b2a5-48b4-d484-a166937f4f75",
    "tags": []
   },
   "outputs": [],
   "source": [
    "# Código que permite acceder al archivo propiedades.csv, en caso no tenga acceso al archivo,\n",
    "# El condicional propone identificar la plataforma, si es Windows va a buscar el archivo en github de Inove y lo descargará.\n",
    "# En caso sea una plataforma diferente va a buscar el archivo en la ruta especificada.\n",
    "\n",
    "if os.access('propiedades.csv', os.F_OK) is False:\n",
    "    if platform.system() == 'Windows':\n",
    "        !curl https://raw.githubusercontent.com/InoveAlumnos/dataset_analytics_python/master/propiedades.csv > propiedades.csv\n",
    "    else:\n",
    "        !wget propiedades.csv https://raw.githubusercontent.com/InoveAlumnos/dataset_analytics_python/master/propiedades.csv"
   ]
  },
  {
   "cell_type": "markdown",
   "metadata": {
    "id": "Q5I6l8ZCFaZ8"
   },
   "source": [
    "# Procesar datos\n",
    "<img src=\"https://raw.githubusercontent.com/InoveAlumnos/dataset_analytics_python/master/images/Pipeline2.png\" width=\"1000\" align=\"middle\">"
   ]
  },
  {
   "cell_type": "markdown",
   "metadata": {
    "id": "RmeM8s8Nn9Mr"
   },
   "source": [
    "## Lectura de un archivo csv con Pandas"
   ]
  },
  {
   "cell_type": "code",
   "execution_count": null,
   "metadata": {
    "colab": {
     "base_uri": "https://localhost:8080/",
     "height": 423
    },
    "executionInfo": {
     "elapsed": 19,
     "status": "ok",
     "timestamp": 1674611555265,
     "user": {
      "displayName": "Johana Rangel",
      "userId": "05955916709715560742"
     },
     "user_tz": 180
    },
    "id": "ciyfc5aOUAxK",
    "outputId": "d47e3237-1b3c-4408-928f-82dd4912959d"
   },
   "outputs": [],
   "source": [
    "# Una vez descargado el archivo en Colab.\n",
    "# Leerlo con Pandas y el método read_csv\n",
    "# Una vez extraida toda la información se almacena en df\n",
    "# A partir de df y el método describe(), mostrará la descripción estadistica básica del archivo que se guardará en des\n",
    "df = pd.read_csv(\"propiedades.csv\")\n",
    "df"
   ]
  },
  {
   "cell_type": "markdown",
   "metadata": {
    "id": "YH8LTjJMoCEy"
   },
   "source": [
    "## Descripción estadística con Pandas."
   ]
  },
  {
   "cell_type": "code",
   "execution_count": null,
   "metadata": {
    "colab": {
     "base_uri": "https://localhost:8080/",
     "height": 300
    },
    "executionInfo": {
     "elapsed": 18,
     "status": "ok",
     "timestamp": 1674611555266,
     "user": {
      "displayName": "Johana Rangel",
      "userId": "05955916709715560742"
     },
     "user_tz": 180
    },
    "id": "CP6uRiZ0oDMq",
    "outputId": "75b3e07e-fa61-46aa-a5d4-6d618529ffce"
   },
   "outputs": [],
   "source": [
    "des = df.describe()\n",
    "des"
   ]
  },
  {
   "cell_type": "markdown",
   "metadata": {
    "id": "d_DUjgeeoMaB"
   },
   "source": [
    "## Identificar y eliminar datos faltantes."
   ]
  },
  {
   "cell_type": "code",
   "execution_count": null,
   "metadata": {
    "colab": {
     "base_uri": "https://localhost:8080/"
    },
    "executionInfo": {
     "elapsed": 17,
     "status": "ok",
     "timestamp": 1674611555266,
     "user": {
      "displayName": "Johana Rangel",
      "userId": "05955916709715560742"
     },
     "user_tz": 180
    },
    "id": "7f-qLXoKUwoq",
    "outputId": "18af43d2-6c09-49e7-ff5d-82e606c136a5"
   },
   "outputs": [],
   "source": [
    "# Contar cuantos datos tipo Nan posee el DataFrame para cada columna.\n",
    "df.isna().sum()"
   ]
  },
  {
   "cell_type": "code",
   "execution_count": null,
   "metadata": {
    "colab": {
     "base_uri": "https://localhost:8080/",
     "height": 331
    },
    "executionInfo": {
     "elapsed": 15,
     "status": "ok",
     "timestamp": 1674611555267,
     "user": {
      "displayName": "Johana Rangel",
      "userId": "05955916709715560742"
     },
     "user_tz": 180
    },
    "id": "XcRvjWBcVAdK",
    "outputId": "25d02baa-3fac-4ecd-ccfd-949aa3afbb4d"
   },
   "outputs": [],
   "source": [
    "# Crear una fila nueva llamada Nan en el DataFrame  des,\n",
    "# que indica la cantidad de datos tipo Nan que tiene cada columna.\n",
    "# Para crear una nueva fila, se utilizará el operador loc, donde se indica el nombre\n",
    "# de la nueva fila y con que valores se completará.\n",
    "# La información será de los datos faltantes df.isna().sum()\n",
    "des.loc['Nan'] = df.isna().sum()\n",
    "des"
   ]
  },
  {
   "cell_type": "code",
   "execution_count": null,
   "metadata": {
    "colab": {
     "base_uri": "https://localhost:8080/",
     "height": 363
    },
    "executionInfo": {
     "elapsed": 14,
     "status": "ok",
     "timestamp": 1674611555267,
     "user": {
      "displayName": "Johana Rangel",
      "userId": "05955916709715560742"
     },
     "user_tz": 180
    },
    "id": "RQgSiWHXFWQD",
    "outputId": "534fce85-cb46-4818-d2ce-755f8fd09fd3"
   },
   "outputs": [],
   "source": [
    "# Crear una fila nueva llamada %Nan en el DataFrame des,\n",
    "# Esta fila se completará con los porcentajes de Nan encontrados en cada columna.\n",
    "des.loc['%Nan'] = (df.isna().mean()) * 100\n",
    "des"
   ]
  },
  {
   "cell_type": "code",
   "execution_count": null,
   "metadata": {
    "colab": {
     "base_uri": "https://localhost:8080/",
     "height": 206
    },
    "executionInfo": {
     "elapsed": 13,
     "status": "ok",
     "timestamp": 1674611555267,
     "user": {
      "displayName": "Johana Rangel",
      "userId": "05955916709715560742"
     },
     "user_tz": 180
    },
    "id": "yVdxZvGKFvM9",
    "outputId": "0664523a-2357-4d87-84ff-4afab81fa10a"
   },
   "outputs": [],
   "source": [
    "# Muestra las 5 primeras filas del DataFrame df\n",
    "df.head() "
   ]
  },
  {
   "cell_type": "code",
   "execution_count": null,
   "metadata": {
    "executionInfo": {
     "elapsed": 513,
     "status": "ok",
     "timestamp": 1674611555768,
     "user": {
      "displayName": "Johana Rangel",
      "userId": "05955916709715560742"
     },
     "user_tz": 180
    },
    "id": "fyOu8suvF8cP"
   },
   "outputs": [],
   "source": [
    "df_clean = df.copy()\n",
    "\n",
    "# Sacamos todas las filas de la tabla las cuales el campo \"m2\" o \"ambientes\" se encuentre vacío.\n",
    "df_clean.dropna(subset=['m2'], inplace=True)\n",
    "df_clean.dropna(subset=['ambientes'], inplace=True)\n",
    "\n",
    "# Otra manera de obtener el mismo resultado:\n",
    "#df_clean = df[df['m2'].notna()]\n",
    "#df_clean = df_clean[df_clean['ambientes'].notna()]"
   ]
  },
  {
   "cell_type": "code",
   "execution_count": null,
   "metadata": {
    "colab": {
     "base_uri": "https://localhost:8080/"
    },
    "executionInfo": {
     "elapsed": 19,
     "status": "ok",
     "timestamp": 1674611555773,
     "user": {
      "displayName": "Johana Rangel",
      "userId": "05955916709715560742"
     },
     "user_tz": 180
    },
    "id": "bjzK91EoLfJZ",
    "outputId": "19f4363e-0b72-41d7-b5ca-eb1bdd54e7da"
   },
   "outputs": [],
   "source": [
    "# ¿Cuántos datos quedaron para analizar?\n",
    "# Con shape muestra las filas y columnas disponibles en df_clean\n",
    "df_clean.shape"
   ]
  },
  {
   "cell_type": "markdown",
   "metadata": {
    "id": "l17CbKBnLTbu"
   },
   "source": [
    "## Fin de la limpieza\n",
    "Se finalizó la limpieza sacando aquellas filas que no eran de interes, se puede observar que la cantidad de filas hasta el momento es menor a la cantidad de filas con la que se comnezó el análisis"
   ]
  },
  {
   "cell_type": "code",
   "execution_count": null,
   "metadata": {
    "colab": {
     "base_uri": "https://localhost:8080/"
    },
    "executionInfo": {
     "elapsed": 14,
     "status": "ok",
     "timestamp": 1674611555773,
     "user": {
      "displayName": "Johana Rangel",
      "userId": "05955916709715560742"
     },
     "user_tz": 180
    },
    "id": "XPQ2CtCGL3Zn",
    "outputId": "690c2a68-9ce3-489c-84a3-4bb258808429"
   },
   "outputs": [],
   "source": [
    "print('Cantidad de datos en observacion:', df_clean.shape[0])"
   ]
  },
  {
   "cell_type": "markdown",
   "metadata": {
    "id": "8T_3enyVHYJa"
   },
   "source": [
    "# Explorar datos\n",
    "<img src=\"https://raw.githubusercontent.com/InoveAlumnos/dataset_analytics_python/master/images/Pipeline3.png\" width=\"1000\" align=\"middle\">"
   ]
  },
  {
   "cell_type": "code",
   "execution_count": null,
   "metadata": {
    "colab": {
     "base_uri": "https://localhost:8080/",
     "height": 206
    },
    "executionInfo": {
     "elapsed": 13,
     "status": "ok",
     "timestamp": 1674611555774,
     "user": {
      "displayName": "Johana Rangel",
      "userId": "05955916709715560742"
     },
     "user_tz": 180
    },
    "id": "5OZpKcO8Mh3A",
    "outputId": "b62d5ba1-5058-4c49-f0b8-bdcebeaa2581"
   },
   "outputs": [],
   "source": [
    "df_clean.head()"
   ]
  },
  {
   "cell_type": "markdown",
   "metadata": {
    "id": "91gOMQg2Mkrd"
   },
   "source": [
    "Se puede observar que hay alquileres en dolares, solo nos quedaremos con aquellos alquileres en pesos"
   ]
  },
  {
   "cell_type": "markdown",
   "metadata": {
    "id": "DTBg_ShkocDS"
   },
   "source": [
    "## Explorar los datos y aplicar filtros."
   ]
  },
  {
   "cell_type": "code",
   "execution_count": null,
   "metadata": {
    "colab": {
     "base_uri": "https://localhost:8080/"
    },
    "executionInfo": {
     "elapsed": 12,
     "status": "ok",
     "timestamp": 1674611555774,
     "user": {
      "displayName": "Johana Rangel",
      "userId": "05955916709715560742"
     },
     "user_tz": 180
    },
    "id": "jzz8F7VgHTHH",
    "outputId": "8c14c4b1-2469-4ccd-d2be-3191f7b98371"
   },
   "outputs": [],
   "source": [
    "# Filtramos el dataframe, solos nos quedamos con los alquileres en pesos\n",
    "df_ars = df_clean[df_clean['moneda'] == 'ARS']\n",
    "print('Cantidad de datos en observacion:', df_ars.shape[0])"
   ]
  },
  {
   "cell_type": "markdown",
   "metadata": {
    "id": "33RGoPAVolNS"
   },
   "source": [
    "## Representar graficamente los datos para detectar outliers y observar tendencia."
   ]
  },
  {
   "cell_type": "code",
   "execution_count": null,
   "metadata": {
    "colab": {
     "base_uri": "https://localhost:8080/",
     "height": 265
    },
    "executionInfo": {
     "elapsed": 792,
     "status": "ok",
     "timestamp": 1674611556555,
     "user": {
      "displayName": "Johana Rangel",
      "userId": "05955916709715560742"
     },
     "user_tz": 180
    },
    "id": "v0p6e95WMscW",
    "outputId": "de164d48-bf6c-49df-e4da-e7a825c3f3ba"
   },
   "outputs": [],
   "source": [
    "# Renderizamos el gráfico utilizando el diagrama de cajas\n",
    "df_ars.boxplot(column=['m2'])\n",
    "plt.show()"
   ]
  },
  {
   "cell_type": "markdown",
   "metadata": {
    "id": "cKbXNhC6M5x8"
   },
   "source": [
    "Se puede observar que hay muchos alquileres \"outliers\", es decir que se escapan de la tendencia. Filtraremos aquellos que no aportan al análisis"
   ]
  },
  {
   "cell_type": "code",
   "execution_count": null,
   "metadata": {
    "executionInfo": {
     "elapsed": 11,
     "status": "ok",
     "timestamp": 1674611556556,
     "user": {
      "displayName": "Johana Rangel",
      "userId": "05955916709715560742"
     },
     "user_tz": 180
    },
    "id": "02AnTpR1IPHl"
   },
   "outputs": [],
   "source": [
    "# Nos quedamos solamente con los deparamentos menor a 200m2 y mayor a 50m2\n",
    "# Utilizamos el concepto de \"máscara\" tal cual fue visto en Numpy\n",
    "# para filtrar el dataframe de propiedads deseado\n",
    "propiedades = df_ars[(df_ars['m2'] < 200) & (df_ars['m2'] > 50)]"
   ]
  },
  {
   "cell_type": "code",
   "execution_count": null,
   "metadata": {
    "colab": {
     "base_uri": "https://localhost:8080/"
    },
    "executionInfo": {
     "elapsed": 11,
     "status": "ok",
     "timestamp": 1674611556557,
     "user": {
      "displayName": "Johana Rangel",
      "userId": "05955916709715560742"
     },
     "user_tz": 180
    },
    "id": "UNO4xVXjNGZW",
    "outputId": "a777e2b6-536c-466b-b424-8ab51f551305"
   },
   "outputs": [],
   "source": [
    "print('Cantidad de datos en observacion:', propiedades.shape[0])"
   ]
  },
  {
   "cell_type": "code",
   "execution_count": null,
   "metadata": {
    "colab": {
     "base_uri": "https://localhost:8080/",
     "height": 279
    },
    "executionInfo": {
     "elapsed": 499,
     "status": "ok",
     "timestamp": 1674611557048,
     "user": {
      "displayName": "Johana Rangel",
      "userId": "05955916709715560742"
     },
     "user_tz": 180
    },
    "id": "y4BHiuUuJIBg",
    "outputId": "e432599a-5442-420c-b6d9-73b74572ae9f"
   },
   "outputs": [],
   "source": [
    "# Graficar la tendencia\n",
    "propiedades.plot.scatter(x=['m2'], y=['precio'], color='b')\n",
    "plt.show()"
   ]
  },
  {
   "cell_type": "markdown",
   "metadata": {
    "id": "hLw3dwRQKmYI"
   },
   "source": [
    "## Conclusión\n",
    "Escondido entre los datos se puede apreciar una relación lineal entre los precios de las propiedades, se puede ver como esa nube de puntos azul tiene una tendencia, al aumentar los m2 claramente aumenta el precio del alquiler.\n",
    "Los próximos pasos son crear un modelo base, el cual sería el primer modelo que podríamos crear sin inteligencia artificial para comparar nuestros próximos modelos de inteligencia artificial"
   ]
  }
 ],
 "metadata": {
  "colab": {
   "provenance": [],
   "toc_visible": true
  },
  "kernelspec": {
   "display_name": "Python 3",
   "language": "python",
   "name": "python3"
  },
  "language_info": {
   "codemirror_mode": {
    "name": "ipython",
    "version": 3
   },
   "file_extension": ".py",
   "mimetype": "text/x-python",
   "name": "python",
   "nbconvert_exporter": "python",
   "pygments_lexer": "ipython3",
   "version": "3.8.10"
  }
 },
 "nbformat": 4,
 "nbformat_minor": 4
}
